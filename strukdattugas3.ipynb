{
  "nbformat": 4,
  "nbformat_minor": 0,
  "metadata": {
    "colab": {
      "provenance": [],
      "authorship_tag": "ABX9TyNNZtOpaHEYueNh8vo9gFL8",
      "include_colab_link": true
    },
    "kernelspec": {
      "name": "python3",
      "display_name": "Python 3"
    },
    "language_info": {
      "name": "python"
    }
  },
  "cells": [
    {
      "cell_type": "markdown",
      "metadata": {
        "id": "view-in-github",
        "colab_type": "text"
      },
      "source": [
        "<a href=\"https://colab.research.google.com/github/LikaAlfi/strukdat-tugas03/blob/main/strukdattugas3.ipynb\" target=\"_parent\"><img src=\"https://colab.research.google.com/assets/colab-badge.svg\" alt=\"Open In Colab\"/></a>"
      ]
    },
    {
      "cell_type": "code",
      "execution_count": 8,
      "metadata": {
        "colab": {
          "base_uri": "https://localhost:8080/"
        },
        "id": "Ap28L-F9MfuR",
        "outputId": "cc808abd-78b4-4c33-e537-fa0884e2e019"
      },
      "outputs": [
        {
          "output_type": "stream",
          "name": "stdout",
          "text": [
            "masukkan dua digit terakhir NPM : 10\n",
            "Awal: Tiang Asal: [3, 2, 1], Tiang Bantu: [], Tiang Tujuan: []\n",
            "Langkah 1: Pindahkan cakram 1 dari Tiang Asal ke Tiang Tujuan\n",
            "Langkah 2: Pindahkan cakram 2 dari Tiang Asal ke Tiang Bantu\n",
            "Langkah 3: Pindahkan cakram 2 dari Tiang Bantu ke Tiang Tujuan\n",
            "Langkah 4: Pindahkan cakram 3 dari Tiang Asal ke Tiang Tujuan\n",
            "Akhir: Tiang Asal: [], Tiang Bantu: [], Tiang Tujuan: [1, 2, 3]\n"
          ]
        }
      ],
      "source": [
        "class Stack:\n",
        "    def __init__(self, name):\n",
        "        self.stack = []\n",
        "        self.name = name\n",
        "\n",
        "    def push(self, disk):\n",
        "        self.stack.append(disk)\n",
        "\n",
        "    def pop(self):\n",
        "        return self.stack.pop() if self.stack else None\n",
        "\n",
        "    def __repr__(self):\n",
        "        return f\"{self.name}: {self.stack}\"\n",
        "\n",
        "# Variabel untuk menghitung langkah\n",
        "step_counter = 0\n",
        "max_steps = int(input(\"masukkan dua digit terakhir NPM : \"))  # Sesuai dua digit terakhir NPM\n",
        "\n",
        "def hanoi(n, source, auxiliary, destination):\n",
        "    global step_counter\n",
        "    if n > 0 and step_counter < max_steps:\n",
        "        hanoi(n-1, source, destination, auxiliary)\n",
        "\n",
        "        if step_counter < max_steps:\n",
        "            disk = source.pop()\n",
        "            if disk is not None:\n",
        "                destination.push(disk)\n",
        "                step_counter += 1\n",
        "                print(f\"Langkah {step_counter}: Pindahkan cakram {disk} dari {source.name} ke {destination.name}\")\n",
        "\n",
        "        hanoi(n-1, bantu, asal, tujuan)\n",
        "\n",
        "# Buat tiga tiang dengan Stack\n",
        "asal = Stack(\"Tiang Asal\")\n",
        "bantu = Stack(\"Tiang Bantu\")\n",
        "tujuan = Stack(\"Tiang Tujuan\")\n",
        "\n",
        "# Tambahkan cakram ke tiang asal\n",
        "for i in range(n, 0, -1):\n",
        "    asal.push(i)\n",
        "\n",
        "print(f\"Awal: {asal}, {bantu}, {tujuan}\")\n",
        "\n",
        "# Jalankan algoritma Hanoi dengan batas langkah\n",
        "hanoi(n, asal, bantu, tujuan)\n",
        "\n",
        "print(f\"Akhir: {asal}, {bantu}, {tujuan}\")\n"
      ]
    }
  ]
}